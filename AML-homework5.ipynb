{
 "cells": [
  {
   "cell_type": "markdown",
   "metadata": {},
   "source": [
    "# 1"
   ]
  },
  {
   "cell_type": "markdown",
   "metadata": {},
   "source": [
    "## (a)"
   ]
  },
  {
   "cell_type": "code",
   "execution_count": 9,
   "metadata": {},
   "outputs": [
    {
     "data": {
      "text/plain": [
       "24.4194"
      ]
     },
     "execution_count": 9,
     "metadata": {},
     "output_type": "execute_result"
    }
   ],
   "source": [
    "j=1\n",
    "reward=10\n",
    "for i in range(1,200):\n",
    "    j=j+1\n",
    "    if (j==6):\n",
    "        reward=reward+10*(0.9**i)\n",
    "        j=1\n",
    "round(reward,4)"
   ]
  },
  {
   "cell_type": "markdown",
   "metadata": {},
   "source": [
    "## (b)"
   ]
  },
  {
   "cell_type": "markdown",
   "metadata": {},
   "source": [
    "reward=10×(1+0.9^5+0.9^10+0.9^15+0.9^20+...)=10×[(1-0.9^5n)/(1-0.9^5)]\n",
    "<br>When n→∞, reward→10/(1-0.9^5)"
   ]
  },
  {
   "cell_type": "code",
   "execution_count": 4,
   "metadata": {},
   "outputs": [
    {
     "data": {
      "text/plain": [
       "24.419428096993972"
      ]
     },
     "execution_count": 4,
     "metadata": {},
     "output_type": "execute_result"
    }
   ],
   "source": [
    "10/(1-0.9**5)"
   ]
  },
  {
   "cell_type": "markdown",
   "metadata": {},
   "source": [
    "## (c)"
   ]
  },
  {
   "cell_type": "markdown",
   "metadata": {},
   "source": [
    "For the other points, the optimal policy for them is to get to A first and repeat the path between A and A'."
   ]
  },
  {
   "cell_type": "code",
   "execution_count": 6,
   "metadata": {},
   "outputs": [
    {
     "name": "stdout",
     "output_type": "stream",
     "text": [
      "24.4\n",
      "21.96\n",
      "19.764\n",
      "17.7876\n",
      "16.00884\n",
      "14.407956\n",
      "12.967160400000001\n"
     ]
    }
   ],
   "source": [
    "for i in range(7):\n",
    "    print(24.4*(0.9**i))"
   ]
  },
  {
   "cell_type": "markdown",
   "metadata": {},
   "source": [
    "These are the values in v(s)."
   ]
  },
  {
   "cell_type": "markdown",
   "metadata": {},
   "source": [
    "# 2"
   ]
  },
  {
   "cell_type": "markdown",
   "metadata": {},
   "source": [
    "# (a)&(b)"
   ]
  },
  {
   "cell_type": "code",
   "execution_count": 4,
   "metadata": {},
   "outputs": [
    {
     "name": "stderr",
     "output_type": "stream",
     "text": [
      "[2017-11-29 05:06:58,402] Making new env: CartPole-v0\n"
     ]
    }
   ],
   "source": [
    "# install OpenAI gym per https://gym.openai.com/docs/\n",
    "# see scratch_lec05 for all basics of q learning and cartpole in gym\n",
    "import gym\n",
    "import random\n",
    "import numpy as np\n",
    "import matplotlib.pyplot as plt\n",
    "import tensorflow as tf\n",
    "env = gym.make('CartPole-v0')"
   ]
  },
  {
   "cell_type": "code",
   "execution_count": 6,
   "metadata": {
    "collapsed": true
   },
   "outputs": [],
   "source": [
    "class Replay:\n",
    "    # accepts a tuple (s,a,r,s') and keeps a list, returns a random batch of tuples as needed\n",
    "    # remember this is q learning, so a' is not needed (why?... off policy argmax_a)\n",
    "    def __init__(self):\n",
    "        self.buffer = []\n",
    "        self.length = 0\n",
    "        self.max_length = 100000\n",
    "        \n",
    "    def write(self, data):\n",
    "        if self.length >= self.max_length:\n",
    "            # drop oldest data point to make room for new\n",
    "            self.buffer.pop(0)\n",
    "            self.length -= 1\n",
    "        self.buffer.append(data)\n",
    "        self.length += 1\n",
    "        \n",
    "    def read(self, batch_size):\n",
    "        # randomly sample a batch and return a list thereof\n",
    "        return random.sample(self.buffer,min(batch_size,self.length))"
   ]
  },
  {
   "cell_type": "code",
   "execution_count": 6,
   "metadata": {
    "collapsed": true
   },
   "outputs": [],
   "source": [
    "class Network:\n",
    "    \n",
    "    def __init__(self, session, n_in , n_out):\n",
    "        self.session = session\n",
    "        self.n_in = n_in\n",
    "        self.n_out = n_out\n",
    "        self.n_hidden = 60\n",
    "        # data placeholders\n",
    "        self.x = tf.placeholder(tf.float32, [None, n_in], name='x')\n",
    "        self.y = tf.placeholder(tf.float32, [None, n_out], name='y')\n",
    "        self.x_in = tf.reshape(self.x, [-1,self.n_in])\n",
    "        # 2 layer network\n",
    "        self.W_fc1 = tf.get_variable('W_fc1', shape=[self.n_in,self.n_hidden])\n",
    "        self.b_fc1 = tf.get_variable('b_fc1', shape=[self.n_hidden])\n",
    "        self.h_fc1 = tf.nn.relu(tf.add(tf.matmul(self.x_in, self.W_fc1), self.b_fc1, name='layer1'))\n",
    "        self.W_fc2 = tf.get_variable('W_fc2', shape=[self.n_hidden,self.n_out])\n",
    "        self.b_fc2 = tf.get_variable('b_fc2', shape=[self.n_out])\n",
    "        self.q = tf.add(tf.matmul(self.h_fc1, self.W_fc2), self.b_fc2, name='layer2')\n",
    "        # loss, train_step, etc.\n",
    "        self.loss = tf.reduce_sum(tf.square(self.y - self.q),1)\n",
    "        self.train_step = tf.train.AdamOptimizer(1e-4).minimize(self.loss)\n",
    "    \n",
    "    def compute(self, x):\n",
    "        # evaluate the network and return the action values [q(s,a=0),q(s,a=1)]\n",
    "        return self.session.run(self.q, feed_dict={self.x:np.reshape(x,[-1,self.n_in])})\n",
    "    \n",
    "    def train(self, x_batch, y_batch):\n",
    "        # take a training step\n",
    "        _ = self.session.run(self.train_step, feed_dict={self.x: x_batch, self.y: y_batch})"
   ]
  },
  {
   "cell_type": "code",
   "execution_count": 7,
   "metadata": {
    "collapsed": true
   },
   "outputs": [],
   "source": [
    "class Agent: \n",
    "    \n",
    "    def __init__(self, tf_session):\n",
    "        self.n_in = 4\n",
    "        self.n_out = 2\n",
    "        # first what reward has the agent accrued so far\n",
    "        self.total_reward = 0 \n",
    "        # discount, learning, exploration rates, batch size\n",
    "        self.gamma = 0.99\n",
    "        self.epsilon = 1.0\n",
    "        self.batch_size = 50\n",
    "        # make an experience replay buffer\n",
    "        self.replay_buffer = Replay()\n",
    "        # make the network that will be the q function\n",
    "        self.q = Network(tf_session, self.n_in , self.n_out)           \n",
    "        \n",
    "    def gather_experience(self, last_observation, action, reward, observation):\n",
    "        # push this experience onto the replay buffer\n",
    "        self.replay_buffer.write((last_observation, action, reward, observation))\n",
    "            \n",
    "    def choose_action(self, observation):\n",
    "        # behave according to an epsilon greedy policy\n",
    "        if np.random.rand() > self.epsilon:\n",
    "            if self.q.compute(observation)[0,0]>self.q.compute(observation)[0,1]:\n",
    "                return 0\n",
    "            else:\n",
    "                return 1\n",
    "        else:\n",
    "            # explore\n",
    "            return int(np.round(np.random.random()))\n",
    "        \n",
    "    def q_update(self):\n",
    "        # pull a batch from the buffer\n",
    "        sars_batch = self.replay_buffer.read(self.batch_size)\n",
    "        # compute the q function for all last_obs and obs\n",
    "        q_last = self.q.compute([s[0] for s in sars_batch])\n",
    "        # q_next for current obs requires a bit more attention, since done flag means q should be zero\n",
    "        q_this = np.zeros_like(q_last) # initialize q to zeros\n",
    "        ind_not_none = [i for i in range(np.shape(sars_batch)[0]) if sars_batch[i][3] is not None]\n",
    "        q_this_not_none = self.q.compute([sb[3] for sb in sars_batch if sb[3] is not None])\n",
    "        # now fill q_this with just the valid q, leaving others [0,0]\n",
    "        for i in range(len(ind_not_none)):\n",
    "            q_this[ind_not_none[i],:] = q_this_not_none[i,:]\n",
    "        # a list comprehension is nice but 5x inefficient... want to pass tensorflow a batch block\n",
    "        # q_this = [([0,0] if s[3] is None else self.q.compute(s[3])) for s in sars_batch]\n",
    "        # now chunk this up as the train_step expects\n",
    "        x_batch = np.zeros([np.shape(sars_batch)[0],self.n_in])\n",
    "        y_batch = np.zeros([np.shape(sars_batch)[0],self.n_out])\n",
    "        for i in range(np.shape(sars_batch)[0]):\n",
    "            x_batch[i,:] = sars_batch[i][0]\n",
    "            for j in range(2):\n",
    "                if j == sars_batch[i][1]:\n",
    "                    # the key step... this is the q learning target\n",
    "                    y_batch[i,j] = sars_batch[i][2] + self.gamma*np.max(q_this[i])\n",
    "                else:\n",
    "                    y_batch[i,j] = q_last[i][j]\n",
    "        # now run the train step\n",
    "        self.q.train(x_batch,y_batch)\n",
    "\n",
    "    def set_epsilon(self,episode):\n",
    "        # decay exploration from 0.5 to 0.1, but slowly\n",
    "        # NOTE: performance depends on these decay schedules! Experiment!\n",
    "        #self.epsilon = 0.01 + (0.5-0.01)/(1 + episode)\n",
    "        # Note: here is a rate schedule suggested by https://jaromiru.com/2016/10/03/lets-make-a-dqn-implementation/\n",
    "        self.epsilon = 0.01 + (1.0 - 0.01)*np.exp(-.001*episode)\n",
    "        \n",
    "    def reset_epsilon(self):\n",
    "        # reset method for running greedy after training\n",
    "        self.epsilon = 0.0\n",
    "\n",
    "    def gather_reward(self, reward):\n",
    "        self.total_reward += reward\n",
    "    def get_total_reward(self):\n",
    "         return self.total_reward\n",
    "    def set_total_reward(self, new_total):\n",
    "         self.total_reward = new_total"
   ]
  },
  {
   "cell_type": "code",
   "execution_count": 8,
   "metadata": {
    "collapsed": true
   },
   "outputs": [],
   "source": [
    "# Ensure target log dir exists\n",
    "import os\n",
    "LOG_DIR = './tmp/gymexp'\n",
    "if not os.path.exists(LOG_DIR):\n",
    "    os.makedirs(LOG_DIR)"
   ]
  },
  {
   "cell_type": "code",
   "execution_count": 15,
   "metadata": {},
   "outputs": [
    {
     "name": "stdout",
     "output_type": "stream",
     "text": [
      "After 50 episodes, last 50 rewards averaged 21.36\n",
      "After 100 episodes, last 50 rewards averaged 19.2\n",
      "After 150 episodes, last 50 rewards averaged 18.12\n",
      "After 200 episodes, last 50 rewards averaged 17.12\n",
      "After 250 episodes, last 50 rewards averaged 18.26\n",
      "After 300 episodes, last 50 rewards averaged 17.3\n",
      "After 350 episodes, last 50 rewards averaged 18.24\n",
      "After 400 episodes, last 50 rewards averaged 18.96\n",
      "After 450 episodes, last 50 rewards averaged 17.32\n",
      "After 500 episodes, last 50 rewards averaged 29.1\n",
      "After 550 episodes, last 50 rewards averaged 39.76\n",
      "After 600 episodes, last 50 rewards averaged 39.7\n",
      "After 650 episodes, last 50 rewards averaged 48.12\n",
      "After 700 episodes, last 50 rewards averaged 48.98\n",
      "After 750 episodes, last 50 rewards averaged 52.36\n",
      "After 800 episodes, last 50 rewards averaged 58.88\n",
      "After 850 episodes, last 50 rewards averaged 59.94\n",
      "After 900 episodes, last 50 rewards averaged 67.48\n",
      "After 950 episodes, last 50 rewards averaged 78.72\n",
      "After 1000 episodes, last 50 rewards averaged 83.02\n",
      "After 1050 episodes, last 50 rewards averaged 106.18\n",
      "After 1100 episodes, last 50 rewards averaged 133.96\n",
      "After 1150 episodes, last 50 rewards averaged 178.3\n",
      "After 1200 episodes, last 50 rewards averaged 183.2\n",
      "After 1250 episodes, last 50 rewards averaged 196.02\n",
      "After 1300 episodes, last 50 rewards averaged 197.74\n",
      "After 1350 episodes, last 50 rewards averaged 197.14\n",
      "After 1400 episodes, last 50 rewards averaged 200.0\n",
      "After 1450 episodes, last 50 rewards averaged 198.46\n",
      "After 1500 episodes, last 50 rewards averaged 200.0\n"
     ]
    },
    {
     "data": {
      "image/png": "[encoded data removed]",
      "text/plain": [
       "<matplotlib.figure.Figure at 0x1d8d5a98ba8>"
      ]
     },
     "metadata": {},
     "output_type": "display_data"
    },
    {
     "name": "stdout",
     "output_type": "stream",
     "text": [
      "After 50 episodes, last 50 rewards averaged 200.0\n",
      "After 100 episodes, last 50 rewards averaged 200.0\n"
     ]
    },
    {
     "data": {
      "image/png": "[encoded data removed]",
      "text/plain": [
       "<matplotlib.figure.Figure at 0x1d8d63e8a20>"
      ]
     },
     "metadata": {},
     "output_type": "display_data"
    }
   ],
   "source": [
    "with tf.Graph().as_default():\n",
    "    ep_rewards = []\n",
    "    with tf.Session() as sess:\n",
    "        # create an agent\n",
    "        agent = Agent(sess)\n",
    "        # usual tf initialization\n",
    "        sess.run(tf.global_variables_initializer())      \n",
    "        ####\n",
    "        # Q-learn (train) DQN on CartPole\n",
    "        ####\n",
    "        for ep in range(1501): \n",
    "            # reset environment and agent\n",
    "            last_observation = env.reset()\n",
    "            agent.set_total_reward(0)\n",
    "            # done at T==199 so no reason to go further\n",
    "            for t in range(201):\n",
    "                # agent chooses an action\n",
    "                action = agent.choose_action(last_observation)\n",
    "                # agent takes the action, and the environment responds\n",
    "                observation, reward, done, info = env.step(action)\n",
    "                # check for fail state\n",
    "                if done==True:\n",
    "                    observation = None\n",
    "                # update agent with reward and data\n",
    "                agent.gather_reward(reward)\n",
    "                agent.gather_experience(last_observation, action, reward, observation)\n",
    "                # update q function, which will use the memory\n",
    "                agent.q_update()\n",
    "                # iterate\n",
    "                last_observation = observation\n",
    "                if done==True:\n",
    "                    ep_rewards.append(agent.get_total_reward())\n",
    "                    break\n",
    "            # print progress...\n",
    "            if (ep+1) % 50 == 0:\n",
    "                print('After {} episodes, last 50 rewards averaged {}'.format(ep+1, np.mean(ep_rewards[-50:])))\n",
    "            # update rates\n",
    "            agent.set_epsilon(ep)\n",
    "        plt.plot(ep_rewards, linewidth=2)\n",
    "        plt.xlabel('episode')\n",
    "        plt.ylabel('total reward per episode')\n",
    "        plt.title('DQN CartPole q-learning (training)')\n",
    "        plt.show()\n",
    "        \n",
    "        \n",
    "        ####\n",
    "        # Control CartPole with greedy learned DQN (test)\n",
    "        #### \n",
    "        ep_rewards = []\n",
    "        for ep in range(101): \n",
    "            # reset environment and agent\n",
    "            last_observation = env.reset()\n",
    "            agent.set_total_reward(0)\n",
    "            agent.reset_epsilon()\n",
    "            # done at T==199 so no reason to go further\n",
    "            for t in range(201):\n",
    "                env.render()\n",
    "                action = agent.choose_action(last_observation)\n",
    "                observation, reward, done, info = env.step(action)\n",
    "                agent.gather_reward(reward)\n",
    "                last_observation = observation\n",
    "                if done==True:\n",
    "                    ep_rewards.append(agent.get_total_reward())\n",
    "                    break\n",
    "            # print progress...\n",
    "            if (ep+1) % 50 == 0:\n",
    "                print('After {} episodes, last 50 rewards averaged {}'.format(ep+1, np.mean(ep_rewards[-50:])))\n",
    " \n",
    "        plt.plot(ep_rewards, linewidth=2)\n",
    "        plt.xlabel('episode')\n",
    "        plt.ylabel('total reward per episode')\n",
    "        plt.title('DQN CartPole control (test)')\n",
    "        plt.show()\n",
    "        "
   ]
  },
  {
   "cell_type": "markdown",
   "metadata": {},
   "source": [
    "# (c)"
   ]
  },
  {
   "cell_type": "markdown",
   "metadata": {},
   "source": [
    "**Summary:** I tried three kinds of adjustments.\n",
    "<br>(1). Change 2 layers to 3 or 4 layers. I didn't improve the performance this way. It seems that 2 layers is good enough.\n",
    "<br>(2). Change the hidden layer length to 50 and 70. 50 hidden layer length can improve the performance a bit nut might cause overfitting.\n",
    "<br>(3). Change the batch size to 30 and 70. I didn't improve the performance this way."
   ]
  },
  {
   "cell_type": "markdown",
   "metadata": {},
   "source": [
    "### Change to 3 layers"
   ]
  },
  {
   "cell_type": "code",
   "execution_count": 4,
   "metadata": {
    "collapsed": true
   },
   "outputs": [],
   "source": [
    "class Network:\n",
    "    \n",
    "    def __init__(self, session, n_in , n_out):\n",
    "        self.session = session\n",
    "        self.n_in = n_in\n",
    "        self.n_out = n_out\n",
    "        self.n_hidden = 60\n",
    "        # data placeholders\n",
    "        self.x = tf.placeholder(tf.float32, [None, n_in], name='x')\n",
    "        self.y = tf.placeholder(tf.float32, [None, n_out], name='y')\n",
    "        self.x_in = tf.reshape(self.x, [-1,self.n_in])\n",
    "        # 3 layer network\n",
    "        self.W_fc1 = tf.get_variable('W_fc1', shape=[self.n_in,self.n_hidden])\n",
    "        self.b_fc1 = tf.get_variable('b_fc1', shape=[self.n_hidden])\n",
    "        self.h_fc1 = tf.nn.relu(tf.add(tf.matmul(self.x_in, self.W_fc1), self.b_fc1, name='layer1'))\n",
    "        self.W_fc2 = tf.get_variable('W_fc2', shape=[self.n_hidden,self.n_hidden])\n",
    "        self.b_fc2 = tf.get_variable('b_fc2', shape=[self.n_hidden])\n",
    "        self.h_fc2 = tf.nn.relu(tf.add(tf.matmul(self.h_fc1, self.W_fc2), self.b_fc2, name='layer2'))\n",
    "        self.W_fc3 = tf.get_variable('W_fc3', shape=[self.n_hidden,self.n_out])\n",
    "        self.b_fc3 = tf.get_variable('b_fc3', shape=[self.n_out])\n",
    "        self.q = tf.add(tf.matmul(self.h_fc2, self.W_fc3), self.b_fc3, name='layer3')\n",
    "        # loss, train_step, etc.\n",
    "        self.loss = tf.reduce_sum(tf.square(self.y - self.q),1)\n",
    "        self.train_step = tf.train.AdamOptimizer(1e-4).minimize(self.loss)\n",
    "    \n",
    "    def compute(self, x):\n",
    "        # evaluate the network and return the action values [q(s,a=0),q(s,a=1)]\n",
    "        return self.session.run(self.q, feed_dict={self.x:np.reshape(x,[-1,self.n_in])})\n",
    "    \n",
    "    def train(self, x_batch, y_batch):\n",
    "        # take a training step\n",
    "        _ = self.session.run(self.train_step, feed_dict={self.x: x_batch, self.y: y_batch})"
   ]
  },
  {
   "cell_type": "code",
   "execution_count": 8,
   "metadata": {},
   "outputs": [
    {
     "name": "stdout",
     "output_type": "stream",
     "text": [
      "After 50 episodes, last 50 rewards averaged 22.1\n",
      "After 100 episodes, last 50 rewards averaged 23.64\n",
      "After 150 episodes, last 50 rewards averaged 21.3\n",
      "After 200 episodes, last 50 rewards averaged 19.6\n",
      "After 250 episodes, last 50 rewards averaged 20.76\n",
      "After 300 episodes, last 50 rewards averaged 34.96\n",
      "After 350 episodes, last 50 rewards averaged 34.38\n",
      "After 400 episodes, last 50 rewards averaged 30.08\n",
      "After 450 episodes, last 50 rewards averaged 52.28\n",
      "After 500 episodes, last 50 rewards averaged 74.84\n",
      "After 550 episodes, last 50 rewards averaged 93.74\n",
      "After 600 episodes, last 50 rewards averaged 92.88\n",
      "After 650 episodes, last 50 rewards averaged 122.22\n",
      "After 700 episodes, last 50 rewards averaged 125.16\n",
      "After 750 episodes, last 50 rewards averaged 128.42\n",
      "After 800 episodes, last 50 rewards averaged 148.8\n",
      "After 850 episodes, last 50 rewards averaged 159.82\n",
      "After 900 episodes, last 50 rewards averaged 170.14\n",
      "After 950 episodes, last 50 rewards averaged 175.54\n",
      "After 1000 episodes, last 50 rewards averaged 190.64\n",
      "After 1050 episodes, last 50 rewards averaged 184.6\n",
      "After 1100 episodes, last 50 rewards averaged 184.6\n",
      "After 1150 episodes, last 50 rewards averaged 192.12\n",
      "After 1200 episodes, last 50 rewards averaged 187.56\n",
      "After 1250 episodes, last 50 rewards averaged 191.44\n",
      "After 1300 episodes, last 50 rewards averaged 187.68\n",
      "After 1350 episodes, last 50 rewards averaged 196.5\n",
      "After 1400 episodes, last 50 rewards averaged 195.1\n",
      "After 1450 episodes, last 50 rewards averaged 190.0\n",
      "After 1500 episodes, last 50 rewards averaged 195.08\n"
     ]
    },
    {
     "data": {
      "image/png": "[encoded data removed]",
      "text/plain": [
       "<matplotlib.figure.Figure at 0x23a676b2630>"
      ]
     },
     "metadata": {},
     "output_type": "display_data"
    }
   ],
   "source": [
    "with tf.Graph().as_default():\n",
    "    ep_rewards = []\n",
    "    with tf.Session() as sess:\n",
    "        # create an agent\n",
    "        agent = Agent(sess)\n",
    "        # usual tf initialization\n",
    "        sess.run(tf.global_variables_initializer())      \n",
    "        ####\n",
    "        # Q-learn (train) DQN on CartPole\n",
    "        ####\n",
    "        for ep in range(1501): \n",
    "            # reset environment and agent\n",
    "            last_observation = env.reset()\n",
    "            agent.set_total_reward(0)\n",
    "            # done at T==199 so no reason to go further\n",
    "            for t in range(201):\n",
    "                # agent chooses an action\n",
    "                action = agent.choose_action(last_observation)\n",
    "                # agent takes the action, and the environment responds\n",
    "                observation, reward, done, info = env.step(action)\n",
    "                # check for fail state\n",
    "                if done==True:\n",
    "                    observation = None\n",
    "                # update agent with reward and data\n",
    "                agent.gather_reward(reward)\n",
    "                agent.gather_experience(last_observation, action, reward, observation)\n",
    "                # update q function, which will use the memory\n",
    "                agent.q_update()\n",
    "                # iterate\n",
    "                last_observation = observation\n",
    "                if done==True:\n",
    "                    ep_rewards.append(agent.get_total_reward())\n",
    "                    break\n",
    "            # print progress...\n",
    "            if (ep+1) % 50 == 0:\n",
    "                print('After {} episodes, last 50 rewards averaged {}'.format(ep+1, np.mean(ep_rewards[-50:])))\n",
    "            # update rates\n",
    "            agent.set_epsilon(ep)\n",
    "        plt.plot(ep_rewards, linewidth=2)\n",
    "        plt.xlabel('episode')\n",
    "        plt.ylabel('total reward per episode')\n",
    "        plt.title('DQN CartPole q-learning (training)')\n",
    "        plt.show()"
   ]
  },
  {
   "cell_type": "markdown",
   "metadata": {},
   "source": [
    "### Change to 4 layers"
   ]
  },
  {
   "cell_type": "code",
   "execution_count": 16,
   "metadata": {
    "collapsed": true
   },
   "outputs": [],
   "source": [
    "class Network:\n",
    "    \n",
    "    def __init__(self, session, n_in , n_out):\n",
    "        self.session = session\n",
    "        self.n_in = n_in\n",
    "        self.n_out = n_out\n",
    "        self.n_hidden = 60\n",
    "        # data placeholders\n",
    "        self.x = tf.placeholder(tf.float32, [None, n_in], name='x')\n",
    "        self.y = tf.placeholder(tf.float32, [None, n_out], name='y')\n",
    "        self.x_in = tf.reshape(self.x, [-1,self.n_in])\n",
    "        # 4 layer network\n",
    "        self.W_fc1 = tf.get_variable('W_fc1', shape=[self.n_in,self.n_hidden])\n",
    "        self.b_fc1 = tf.get_variable('b_fc1', shape=[self.n_hidden])\n",
    "        self.h_fc1 = tf.nn.relu(tf.add(tf.matmul(self.x_in, self.W_fc1), self.b_fc1, name='layer1'))\n",
    "        self.W_fc2 = tf.get_variable('W_fc2', shape=[self.n_hidden,self.n_hidden])\n",
    "        self.b_fc2 = tf.get_variable('b_fc2', shape=[self.n_hidden])\n",
    "        self.h_fc2 = tf.nn.relu(tf.add(tf.matmul(self.h_fc1, self.W_fc2), self.b_fc2, name='layer2'))\n",
    "        self.W_fc3 = tf.get_variable('W_fc3', shape=[self.n_hidden,self.n_hidden])\n",
    "        self.b_fc3 = tf.get_variable('b_fc3', shape=[self.n_hidden])\n",
    "        self.h_fc3 = tf.nn.relu(tf.add(tf.matmul(self.h_fc2, self.W_fc3), self.b_fc3, name='layer3'))\n",
    "        self.W_fc4 = tf.get_variable('W_fc4', shape=[self.n_hidden,self.n_out])\n",
    "        self.b_fc4 = tf.get_variable('b_fc4', shape=[self.n_out])\n",
    "        self.q = tf.add(tf.matmul(self.h_fc3, self.W_fc4), self.b_fc4, name='layer4')\n",
    "        # loss, train_step, etc.\n",
    "        self.loss = tf.reduce_sum(tf.square(self.y - self.q),1)\n",
    "        self.train_step = tf.train.AdamOptimizer(1e-4).minimize(self.loss)\n",
    "    \n",
    "    def compute(self, x):\n",
    "        # evaluate the network and return the action values [q(s,a=0),q(s,a=1)]\n",
    "        return self.session.run(self.q, feed_dict={self.x:np.reshape(x,[-1,self.n_in])})\n",
    "    \n",
    "    def train(self, x_batch, y_batch):\n",
    "        # take a training step\n",
    "        _ = self.session.run(self.train_step, feed_dict={self.x: x_batch, self.y: y_batch})"
   ]
  },
  {
   "cell_type": "code",
   "execution_count": 17,
   "metadata": {},
   "outputs": [
    {
     "name": "stdout",
     "output_type": "stream",
     "text": [
      "After 50 episodes, last 50 rewards averaged 20.26\n",
      "After 100 episodes, last 50 rewards averaged 22.98\n",
      "After 150 episodes, last 50 rewards averaged 25.52\n",
      "After 200 episodes, last 50 rewards averaged 26.84\n",
      "After 250 episodes, last 50 rewards averaged 33.26\n",
      "After 300 episodes, last 50 rewards averaged 37.16\n",
      "After 350 episodes, last 50 rewards averaged 45.66\n",
      "After 400 episodes, last 50 rewards averaged 56.74\n",
      "After 450 episodes, last 50 rewards averaged 66.52\n",
      "After 500 episodes, last 50 rewards averaged 88.14\n",
      "After 550 episodes, last 50 rewards averaged 90.72\n",
      "After 600 episodes, last 50 rewards averaged 85.08\n",
      "After 650 episodes, last 50 rewards averaged 118.28\n",
      "After 700 episodes, last 50 rewards averaged 133.56\n",
      "After 750 episodes, last 50 rewards averaged 126.44\n",
      "After 800 episodes, last 50 rewards averaged 139.92\n",
      "After 850 episodes, last 50 rewards averaged 151.8\n",
      "After 900 episodes, last 50 rewards averaged 153.74\n",
      "After 950 episodes, last 50 rewards averaged 165.72\n",
      "After 1000 episodes, last 50 rewards averaged 162.34\n",
      "After 1050 episodes, last 50 rewards averaged 185.3\n",
      "After 1100 episodes, last 50 rewards averaged 176.74\n",
      "After 1150 episodes, last 50 rewards averaged 167.46\n",
      "After 1200 episodes, last 50 rewards averaged 157.88\n",
      "After 1250 episodes, last 50 rewards averaged 132.92\n",
      "After 1300 episodes, last 50 rewards averaged 130.9\n",
      "After 1350 episodes, last 50 rewards averaged 121.84\n",
      "After 1400 episodes, last 50 rewards averaged 130.8\n",
      "After 1450 episodes, last 50 rewards averaged 143.16\n",
      "After 1500 episodes, last 50 rewards averaged 124.96\n"
     ]
    },
    {
     "data": {
      "image/png": "[encoded data removed]",
      "text/plain": [
       "<matplotlib.figure.Figure at 0x23a6c8c13c8>"
      ]
     },
     "metadata": {},
     "output_type": "display_data"
    }
   ],
   "source": [
    "with tf.Graph().as_default():\n",
    "    ep_rewards = []\n",
    "    with tf.Session() as sess:\n",
    "        # create an agent\n",
    "        agent = Agent(sess)\n",
    "        # usual tf initialization\n",
    "        sess.run(tf.global_variables_initializer())      \n",
    "        ####\n",
    "        # Q-learn (train) DQN on CartPole\n",
    "        ####\n",
    "        for ep in range(1501): \n",
    "            # reset environment and agent\n",
    "            last_observation = env.reset()\n",
    "            agent.set_total_reward(0)\n",
    "            # done at T==199 so no reason to go further\n",
    "            for t in range(201):\n",
    "                # agent chooses an action\n",
    "                action = agent.choose_action(last_observation)\n",
    "                # agent takes the action, and the environment responds\n",
    "                observation, reward, done, info = env.step(action)\n",
    "                # check for fail state\n",
    "                if done==True:\n",
    "                    observation = None\n",
    "                # update agent with reward and data\n",
    "                agent.gather_reward(reward)\n",
    "                agent.gather_experience(last_observation, action, reward, observation)\n",
    "                # update q function, which will use the memory\n",
    "                agent.q_update()\n",
    "                # iterate\n",
    "                last_observation = observation\n",
    "                if done==True:\n",
    "                    ep_rewards.append(agent.get_total_reward())\n",
    "                    break\n",
    "            # print progress...\n",
    "            if (ep+1) % 50 == 0:\n",
    "                print('After {} episodes, last 50 rewards averaged {}'.format(ep+1, np.mean(ep_rewards[-50:])))\n",
    "            # update rates\n",
    "            agent.set_epsilon(ep)\n",
    "        plt.plot(ep_rewards, linewidth=2)\n",
    "        plt.xlabel('episode')\n",
    "        plt.ylabel('total reward per episode')\n",
    "        plt.title('DQN CartPole q-learning (training)')\n",
    "        plt.show()"
   ]
  },
  {
   "cell_type": "markdown",
   "metadata": {},
   "source": [
    "### Change the hidden layer length to 50"
   ]
  },
  {
   "cell_type": "code",
   "execution_count": 18,
   "metadata": {
    "collapsed": true
   },
   "outputs": [],
   "source": [
    "class Network:\n",
    "    \n",
    "    def __init__(self, session, n_in , n_out):\n",
    "        self.session = session\n",
    "        self.n_in = n_in\n",
    "        self.n_out = n_out\n",
    "        self.n_hidden = 50\n",
    "        # data placeholders\n",
    "        self.x = tf.placeholder(tf.float32, [None, n_in], name='x')\n",
    "        self.y = tf.placeholder(tf.float32, [None, n_out], name='y')\n",
    "        self.x_in = tf.reshape(self.x, [-1,self.n_in])\n",
    "        # 2 layer network\n",
    "        self.W_fc1 = tf.get_variable('W_fc1', shape=[self.n_in,self.n_hidden])\n",
    "        self.b_fc1 = tf.get_variable('b_fc1', shape=[self.n_hidden])\n",
    "        self.h_fc1 = tf.nn.relu(tf.add(tf.matmul(self.x_in, self.W_fc1), self.b_fc1, name='layer1'))\n",
    "        self.W_fc2 = tf.get_variable('W_fc2', shape=[self.n_hidden,self.n_out])\n",
    "        self.b_fc2 = tf.get_variable('b_fc2', shape=[self.n_out])\n",
    "        self.q = tf.add(tf.matmul(self.h_fc1, self.W_fc2), self.b_fc2, name='layer2')\n",
    "        # loss, train_step, etc.\n",
    "        self.loss = tf.reduce_sum(tf.square(self.y - self.q),1)\n",
    "        self.train_step = tf.train.AdamOptimizer(1e-4).minimize(self.loss)\n",
    "    \n",
    "    def compute(self, x):\n",
    "        # evaluate the network and return the action values [q(s,a=0),q(s,a=1)]\n",
    "        return self.session.run(self.q, feed_dict={self.x:np.reshape(x,[-1,self.n_in])})\n",
    "    \n",
    "    def train(self, x_batch, y_batch):\n",
    "        # take a training step\n",
    "        _ = self.session.run(self.train_step, feed_dict={self.x: x_batch, self.y: y_batch})"
   ]
  },
  {
   "cell_type": "code",
   "execution_count": 19,
   "metadata": {},
   "outputs": [
    {
     "name": "stdout",
     "output_type": "stream",
     "text": [
      "After 50 episodes, last 50 rewards averaged 23.62\n",
      "After 100 episodes, last 50 rewards averaged 23.62\n",
      "After 150 episodes, last 50 rewards averaged 23.12\n",
      "After 200 episodes, last 50 rewards averaged 23.3\n",
      "After 250 episodes, last 50 rewards averaged 20.22\n",
      "After 300 episodes, last 50 rewards averaged 17.64\n",
      "After 350 episodes, last 50 rewards averaged 19.14\n",
      "After 400 episodes, last 50 rewards averaged 19.3\n",
      "After 450 episodes, last 50 rewards averaged 19.5\n",
      "After 500 episodes, last 50 rewards averaged 18.62\n",
      "After 550 episodes, last 50 rewards averaged 30.84\n",
      "After 600 episodes, last 50 rewards averaged 25.9\n",
      "After 650 episodes, last 50 rewards averaged 32.22\n",
      "After 700 episodes, last 50 rewards averaged 35.0\n",
      "After 750 episodes, last 50 rewards averaged 39.46\n",
      "After 800 episodes, last 50 rewards averaged 45.44\n",
      "After 850 episodes, last 50 rewards averaged 49.86\n",
      "After 900 episodes, last 50 rewards averaged 62.2\n",
      "After 950 episodes, last 50 rewards averaged 55.56\n",
      "After 1000 episodes, last 50 rewards averaged 58.48\n",
      "After 1050 episodes, last 50 rewards averaged 66.7\n",
      "After 1100 episodes, last 50 rewards averaged 74.34\n",
      "After 1150 episodes, last 50 rewards averaged 77.92\n",
      "After 1200 episodes, last 50 rewards averaged 88.14\n",
      "After 1250 episodes, last 50 rewards averaged 96.92\n",
      "After 1300 episodes, last 50 rewards averaged 120.02\n",
      "After 1350 episodes, last 50 rewards averaged 155.74\n",
      "After 1400 episodes, last 50 rewards averaged 197.44\n",
      "After 1450 episodes, last 50 rewards averaged 199.02\n",
      "After 1500 episodes, last 50 rewards averaged 199.62\n"
     ]
    },
    {
     "data": {
      "image/png": "[encoded data removed]",
      "text/plain": [
       "<matplotlib.figure.Figure at 0x23a6cf6dd30>"
      ]
     },
     "metadata": {},
     "output_type": "display_data"
    }
   ],
   "source": [
    "with tf.Graph().as_default():\n",
    "    ep_rewards = []\n",
    "    with tf.Session() as sess:\n",
    "        # create an agent\n",
    "        agent = Agent(sess)\n",
    "        # usual tf initialization\n",
    "        sess.run(tf.global_variables_initializer())      \n",
    "        ####\n",
    "        # Q-learn (train) DQN on CartPole\n",
    "        ####\n",
    "        for ep in range(1501): \n",
    "            # reset environment and agent\n",
    "            last_observation = env.reset()\n",
    "            agent.set_total_reward(0)\n",
    "            # done at T==199 so no reason to go further\n",
    "            for t in range(201):\n",
    "                # agent chooses an action\n",
    "                action = agent.choose_action(last_observation)\n",
    "                # agent takes the action, and the environment responds\n",
    "                observation, reward, done, info = env.step(action)\n",
    "                # check for fail state\n",
    "                if done==True:\n",
    "                    observation = None\n",
    "                # update agent with reward and data\n",
    "                agent.gather_reward(reward)\n",
    "                agent.gather_experience(last_observation, action, reward, observation)\n",
    "                # update q function, which will use the memory\n",
    "                agent.q_update()\n",
    "                # iterate\n",
    "                last_observation = observation\n",
    "                if done==True:\n",
    "                    ep_rewards.append(agent.get_total_reward())\n",
    "                    break\n",
    "            # print progress...\n",
    "            if (ep+1) % 50 == 0:\n",
    "                print('After {} episodes, last 50 rewards averaged {}'.format(ep+1, np.mean(ep_rewards[-50:])))\n",
    "            # update rates\n",
    "            agent.set_epsilon(ep)\n",
    "        plt.plot(ep_rewards, linewidth=2)\n",
    "        plt.xlabel('episode')\n",
    "        plt.ylabel('total reward per episode')\n",
    "        plt.title('DQN CartPole q-learning (training)')\n",
    "        plt.show()"
   ]
  },
  {
   "cell_type": "markdown",
   "metadata": {},
   "source": [
    "### Change the hidden layer length to 70"
   ]
  },
  {
   "cell_type": "code",
   "execution_count": 21,
   "metadata": {
    "collapsed": true
   },
   "outputs": [],
   "source": [
    "class Network:\n",
    "    \n",
    "    def __init__(self, session, n_in , n_out):\n",
    "        self.session = session\n",
    "        self.n_in = n_in\n",
    "        self.n_out = n_out\n",
    "        self.n_hidden = 70\n",
    "        # data placeholders\n",
    "        self.x = tf.placeholder(tf.float32, [None, n_in], name='x')\n",
    "        self.y = tf.placeholder(tf.float32, [None, n_out], name='y')\n",
    "        self.x_in = tf.reshape(self.x, [-1,self.n_in])\n",
    "        # 2 layer network\n",
    "        self.W_fc1 = tf.get_variable('W_fc1', shape=[self.n_in,self.n_hidden])\n",
    "        self.b_fc1 = tf.get_variable('b_fc1', shape=[self.n_hidden])\n",
    "        self.h_fc1 = tf.nn.relu(tf.add(tf.matmul(self.x_in, self.W_fc1), self.b_fc1, name='layer1'))\n",
    "        self.W_fc2 = tf.get_variable('W_fc2', shape=[self.n_hidden,self.n_out])\n",
    "        self.b_fc2 = tf.get_variable('b_fc2', shape=[self.n_out])\n",
    "        self.q = tf.add(tf.matmul(self.h_fc1, self.W_fc2), self.b_fc2, name='layer2')\n",
    "        # loss, train_step, etc.\n",
    "        self.loss = tf.reduce_sum(tf.square(self.y - self.q),1)\n",
    "        self.train_step = tf.train.AdamOptimizer(1e-4).minimize(self.loss)\n",
    "    \n",
    "    def compute(self, x):\n",
    "        # evaluate the network and return the action values [q(s,a=0),q(s,a=1)]\n",
    "        return self.session.run(self.q, feed_dict={self.x:np.reshape(x,[-1,self.n_in])})\n",
    "    \n",
    "    def train(self, x_batch, y_batch):\n",
    "        # take a training step\n",
    "        _ = self.session.run(self.train_step, feed_dict={self.x: x_batch, self.y: y_batch})"
   ]
  },
  {
   "cell_type": "code",
   "execution_count": 22,
   "metadata": {},
   "outputs": [
    {
     "name": "stdout",
     "output_type": "stream",
     "text": [
      "After 50 episodes, last 50 rewards averaged 23.84\n",
      "After 100 episodes, last 50 rewards averaged 19.98\n",
      "After 150 episodes, last 50 rewards averaged 19.56\n",
      "After 200 episodes, last 50 rewards averaged 20.18\n",
      "After 250 episodes, last 50 rewards averaged 20.42\n",
      "After 300 episodes, last 50 rewards averaged 17.94\n",
      "After 350 episodes, last 50 rewards averaged 15.22\n",
      "After 400 episodes, last 50 rewards averaged 17.4\n",
      "After 450 episodes, last 50 rewards averaged 17.22\n",
      "After 500 episodes, last 50 rewards averaged 19.22\n",
      "After 550 episodes, last 50 rewards averaged 19.18\n",
      "After 600 episodes, last 50 rewards averaged 28.26\n",
      "After 650 episodes, last 50 rewards averaged 43.16\n",
      "After 700 episodes, last 50 rewards averaged 54.42\n",
      "After 750 episodes, last 50 rewards averaged 56.68\n",
      "After 800 episodes, last 50 rewards averaged 61.44\n",
      "After 850 episodes, last 50 rewards averaged 63.54\n",
      "After 900 episodes, last 50 rewards averaged 61.4\n",
      "After 950 episodes, last 50 rewards averaged 70.26\n",
      "After 1000 episodes, last 50 rewards averaged 65.26\n",
      "After 1050 episodes, last 50 rewards averaged 91.66\n",
      "After 1100 episodes, last 50 rewards averaged 91.88\n",
      "After 1150 episodes, last 50 rewards averaged 109.1\n",
      "After 1200 episodes, last 50 rewards averaged 129.66\n",
      "After 1250 episodes, last 50 rewards averaged 164.0\n",
      "After 1300 episodes, last 50 rewards averaged 183.5\n",
      "After 1350 episodes, last 50 rewards averaged 197.84\n",
      "After 1400 episodes, last 50 rewards averaged 192.72\n",
      "After 1450 episodes, last 50 rewards averaged 197.5\n",
      "After 1500 episodes, last 50 rewards averaged 200.0\n"
     ]
    },
    {
     "data": {
      "image/png": "[encoded data removed]",
      "text/plain": [
       "<matplotlib.figure.Figure at 0x23a6b67b7b8>"
      ]
     },
     "metadata": {},
     "output_type": "display_data"
    }
   ],
   "source": [
    "with tf.Graph().as_default():\n",
    "    ep_rewards = []\n",
    "    with tf.Session() as sess:\n",
    "        # create an agent\n",
    "        agent = Agent(sess)\n",
    "        # usual tf initialization\n",
    "        sess.run(tf.global_variables_initializer())      \n",
    "        ####\n",
    "        # Q-learn (train) DQN on CartPole\n",
    "        ####\n",
    "        for ep in range(1501): \n",
    "            # reset environment and agent\n",
    "            last_observation = env.reset()\n",
    "            agent.set_total_reward(0)\n",
    "            # done at T==199 so no reason to go further\n",
    "            for t in range(201):\n",
    "                # agent chooses an action\n",
    "                action = agent.choose_action(last_observation)\n",
    "                # agent takes the action, and the environment responds\n",
    "                observation, reward, done, info = env.step(action)\n",
    "                # check for fail state\n",
    "                if done==True:\n",
    "                    observation = None\n",
    "                # update agent with reward and data\n",
    "                agent.gather_reward(reward)\n",
    "                agent.gather_experience(last_observation, action, reward, observation)\n",
    "                # update q function, which will use the memory\n",
    "                agent.q_update()\n",
    "                # iterate\n",
    "                last_observation = observation\n",
    "                if done==True:\n",
    "                    ep_rewards.append(agent.get_total_reward())\n",
    "                    break\n",
    "            # print progress...\n",
    "            if (ep+1) % 50 == 0:\n",
    "                print('After {} episodes, last 50 rewards averaged {}'.format(ep+1, np.mean(ep_rewards[-50:])))\n",
    "            # update rates\n",
    "            agent.set_epsilon(ep)\n",
    "        plt.plot(ep_rewards, linewidth=2)\n",
    "        plt.xlabel('episode')\n",
    "        plt.ylabel('total reward per episode')\n",
    "        plt.title('DQN CartPole q-learning (training)')\n",
    "        plt.show()"
   ]
  },
  {
   "cell_type": "markdown",
   "metadata": {},
   "source": [
    "### Change batch size to 30"
   ]
  },
  {
   "cell_type": "code",
   "execution_count": 12,
   "metadata": {
    "collapsed": true
   },
   "outputs": [],
   "source": [
    "class Agent: \n",
    "    \n",
    "    def __init__(self, tf_session):\n",
    "        self.n_in = 4\n",
    "        self.n_out = 2\n",
    "        # first what reward has the agent accrued so far\n",
    "        self.total_reward = 0 \n",
    "        # discount, learning, exploration rates, batch size\n",
    "        self.gamma = 0.99\n",
    "        self.epsilon = 1.0\n",
    "        self.batch_size = 30\n",
    "        # make an experience replay buffer\n",
    "        self.replay_buffer = Replay()\n",
    "        # make the network that will be the q function\n",
    "        self.q = Network(tf_session, self.n_in , self.n_out)           \n",
    "        \n",
    "    def gather_experience(self, last_observation, action, reward, observation):\n",
    "        # push this experience onto the replay buffer\n",
    "        self.replay_buffer.write((last_observation, action, reward, observation))\n",
    "            \n",
    "    def choose_action(self, observation):\n",
    "        # behave according to an epsilon greedy policy\n",
    "        if np.random.rand() > self.epsilon:\n",
    "            if self.q.compute(observation)[0,0]>self.q.compute(observation)[0,1]:\n",
    "                return 0\n",
    "            else:\n",
    "                return 1\n",
    "        else:\n",
    "            # explore\n",
    "            return int(np.round(np.random.random()))\n",
    "        \n",
    "    def q_update(self):\n",
    "        # pull a batch from the buffer\n",
    "        sars_batch = self.replay_buffer.read(self.batch_size)\n",
    "        # compute the q function for all last_obs and obs\n",
    "        q_last = self.q.compute([s[0] for s in sars_batch])\n",
    "        # q_next for current obs requires a bit more attention, since done flag means q should be zero\n",
    "        q_this = np.zeros_like(q_last) # initialize q to zeros\n",
    "        ind_not_none = [i for i in range(np.shape(sars_batch)[0]) if sars_batch[i][3] is not None]\n",
    "        q_this_not_none = self.q.compute([sb[3] for sb in sars_batch if sb[3] is not None])\n",
    "        # now fill q_this with just the valid q, leaving others [0,0]\n",
    "        for i in range(len(ind_not_none)):\n",
    "            q_this[ind_not_none[i],:] = q_this_not_none[i,:]\n",
    "        # a list comprehension is nice but 5x inefficient... want to pass tensorflow a batch block\n",
    "        # q_this = [([0,0] if s[3] is None else self.q.compute(s[3])) for s in sars_batch]\n",
    "        # now chunk this up as the train_step expects\n",
    "        x_batch = np.zeros([np.shape(sars_batch)[0],self.n_in])\n",
    "        y_batch = np.zeros([np.shape(sars_batch)[0],self.n_out])\n",
    "        for i in range(np.shape(sars_batch)[0]):\n",
    "            x_batch[i,:] = sars_batch[i][0]\n",
    "            for j in range(2):\n",
    "                if j == sars_batch[i][1]:\n",
    "                    # the key step... this is the q learning target\n",
    "                    y_batch[i,j] = sars_batch[i][2] + self.gamma*np.max(q_this[i])\n",
    "                else:\n",
    "                    y_batch[i,j] = q_last[i][j]\n",
    "        # now run the train step\n",
    "        self.q.train(x_batch,y_batch)\n",
    "\n",
    "    def set_epsilon(self,episode):\n",
    "        # decay exploration from 0.5 to 0.1, but slowly\n",
    "        # NOTE: performance depends on these decay schedules! Experiment!\n",
    "        #self.epsilon = 0.01 + (0.5-0.01)/(1 + episode)\n",
    "        # Note: here is a rate schedule suggested by https://jaromiru.com/2016/10/03/lets-make-a-dqn-implementation/\n",
    "        self.epsilon = 0.01 + (1.0 - 0.01)*np.exp(-.001*episode)\n",
    "        \n",
    "    def reset_epsilon(self):\n",
    "        # reset method for running greedy after training\n",
    "        self.epsilon = 0.0\n",
    "\n",
    "    def gather_reward(self, reward):\n",
    "        self.total_reward += reward\n",
    "    def get_total_reward(self):\n",
    "         return self.total_reward\n",
    "    def set_total_reward(self, new_total):\n",
    "         self.total_reward = new_total"
   ]
  },
  {
   "cell_type": "code",
   "execution_count": 13,
   "metadata": {},
   "outputs": [
    {
     "name": "stdout",
     "output_type": "stream",
     "text": [
      "After 50 episodes, last 50 rewards averaged 22.06\n",
      "After 100 episodes, last 50 rewards averaged 23.34\n",
      "After 150 episodes, last 50 rewards averaged 20.86\n",
      "After 200 episodes, last 50 rewards averaged 22.42\n",
      "After 250 episodes, last 50 rewards averaged 34.3\n",
      "After 300 episodes, last 50 rewards averaged 35.7\n",
      "After 350 episodes, last 50 rewards averaged 36.36\n",
      "After 400 episodes, last 50 rewards averaged 46.9\n",
      "After 450 episodes, last 50 rewards averaged 49.26\n",
      "After 500 episodes, last 50 rewards averaged 54.26\n",
      "After 550 episodes, last 50 rewards averaged 54.0\n",
      "After 600 episodes, last 50 rewards averaged 80.32\n",
      "After 650 episodes, last 50 rewards averaged 103.54\n",
      "After 700 episodes, last 50 rewards averaged 122.92\n",
      "After 750 episodes, last 50 rewards averaged 151.76\n",
      "After 800 episodes, last 50 rewards averaged 138.26\n",
      "After 850 episodes, last 50 rewards averaged 161.18\n",
      "After 900 episodes, last 50 rewards averaged 164.18\n",
      "After 950 episodes, last 50 rewards averaged 175.06\n",
      "After 1000 episodes, last 50 rewards averaged 180.62\n",
      "After 1050 episodes, last 50 rewards averaged 181.4\n",
      "After 1100 episodes, last 50 rewards averaged 190.2\n",
      "After 1150 episodes, last 50 rewards averaged 191.72\n",
      "After 1200 episodes, last 50 rewards averaged 182.82\n",
      "After 1250 episodes, last 50 rewards averaged 190.26\n",
      "After 1300 episodes, last 50 rewards averaged 191.96\n",
      "After 1350 episodes, last 50 rewards averaged 193.8\n",
      "After 1400 episodes, last 50 rewards averaged 197.94\n",
      "After 1450 episodes, last 50 rewards averaged 194.16\n",
      "After 1500 episodes, last 50 rewards averaged 196.1\n"
     ]
    },
    {
     "data": {
      "image/png": "[encoded data removed]",
      "text/plain": [
       "<matplotlib.figure.Figure at 0x23a6d140438>"
      ]
     },
     "metadata": {},
     "output_type": "display_data"
    }
   ],
   "source": [
    "with tf.Graph().as_default():\n",
    "    ep_rewards = []\n",
    "    with tf.Session() as sess:\n",
    "        # create an agent\n",
    "        agent = Agent(sess)\n",
    "        # usual tf initialization\n",
    "        sess.run(tf.global_variables_initializer())      \n",
    "        ####\n",
    "        # Q-learn (train) DQN on CartPole\n",
    "        ####\n",
    "        for ep in range(1501): \n",
    "            # reset environment and agent\n",
    "            last_observation = env.reset()\n",
    "            agent.set_total_reward(0)\n",
    "            # done at T==199 so no reason to go further\n",
    "            for t in range(201):\n",
    "                # agent chooses an action\n",
    "                action = agent.choose_action(last_observation)\n",
    "                # agent takes the action, and the environment responds\n",
    "                observation, reward, done, info = env.step(action)\n",
    "                # check for fail state\n",
    "                if done==True:\n",
    "                    observation = None\n",
    "                # update agent with reward and data\n",
    "                agent.gather_reward(reward)\n",
    "                agent.gather_experience(last_observation, action, reward, observation)\n",
    "                # update q function, which will use the memory\n",
    "                agent.q_update()\n",
    "                # iterate\n",
    "                last_observation = observation\n",
    "                if done==True:\n",
    "                    ep_rewards.append(agent.get_total_reward())\n",
    "                    break\n",
    "            # print progress...\n",
    "            if (ep+1) % 50 == 0:\n",
    "                print('After {} episodes, last 50 rewards averaged {}'.format(ep+1, np.mean(ep_rewards[-50:])))\n",
    "            # update rates\n",
    "            agent.set_epsilon(ep)\n",
    "        plt.plot(ep_rewards, linewidth=2)\n",
    "        plt.xlabel('episode')\n",
    "        plt.ylabel('total reward per episode')\n",
    "        plt.title('DQN CartPole q-learning (training)')\n",
    "        plt.show()"
   ]
  },
  {
   "cell_type": "markdown",
   "metadata": {},
   "source": [
    "### Change batch size to 70"
   ]
  },
  {
   "cell_type": "code",
   "execution_count": 23,
   "metadata": {
    "collapsed": true
   },
   "outputs": [],
   "source": [
    "class Agent: \n",
    "    \n",
    "    def __init__(self, tf_session):\n",
    "        self.n_in = 4\n",
    "        self.n_out = 2\n",
    "        # first what reward has the agent accrued so far\n",
    "        self.total_reward = 0 \n",
    "        # discount, learning, exploration rates, batch size\n",
    "        self.gamma = 0.99\n",
    "        self.epsilon = 1.0\n",
    "        self.batch_size = 70\n",
    "        # make an experience replay buffer\n",
    "        self.replay_buffer = Replay()\n",
    "        # make the network that will be the q function\n",
    "        self.q = Network(tf_session, self.n_in , self.n_out)           \n",
    "        \n",
    "    def gather_experience(self, last_observation, action, reward, observation):\n",
    "        # push this experience onto the replay buffer\n",
    "        self.replay_buffer.write((last_observation, action, reward, observation))\n",
    "            \n",
    "    def choose_action(self, observation):\n",
    "        # behave according to an epsilon greedy policy\n",
    "        if np.random.rand() > self.epsilon:\n",
    "            if self.q.compute(observation)[0,0]>self.q.compute(observation)[0,1]:\n",
    "                return 0\n",
    "            else:\n",
    "                return 1\n",
    "        else:\n",
    "            # explore\n",
    "            return int(np.round(np.random.random()))\n",
    "        \n",
    "    def q_update(self):\n",
    "        # pull a batch from the buffer\n",
    "        sars_batch = self.replay_buffer.read(self.batch_size)\n",
    "        # compute the q function for all last_obs and obs\n",
    "        q_last = self.q.compute([s[0] for s in sars_batch])\n",
    "        # q_next for current obs requires a bit more attention, since done flag means q should be zero\n",
    "        q_this = np.zeros_like(q_last) # initialize q to zeros\n",
    "        ind_not_none = [i for i in range(np.shape(sars_batch)[0]) if sars_batch[i][3] is not None]\n",
    "        q_this_not_none = self.q.compute([sb[3] for sb in sars_batch if sb[3] is not None])\n",
    "        # now fill q_this with just the valid q, leaving others [0,0]\n",
    "        for i in range(len(ind_not_none)):\n",
    "            q_this[ind_not_none[i],:] = q_this_not_none[i,:]\n",
    "        # a list comprehension is nice but 5x inefficient... want to pass tensorflow a batch block\n",
    "        # q_this = [([0,0] if s[3] is None else self.q.compute(s[3])) for s in sars_batch]\n",
    "        # now chunk this up as the train_step expects\n",
    "        x_batch = np.zeros([np.shape(sars_batch)[0],self.n_in])\n",
    "        y_batch = np.zeros([np.shape(sars_batch)[0],self.n_out])\n",
    "        for i in range(np.shape(sars_batch)[0]):\n",
    "            x_batch[i,:] = sars_batch[i][0]\n",
    "            for j in range(2):\n",
    "                if j == sars_batch[i][1]:\n",
    "                    # the key step... this is the q learning target\n",
    "                    y_batch[i,j] = sars_batch[i][2] + self.gamma*np.max(q_this[i])\n",
    "                else:\n",
    "                    y_batch[i,j] = q_last[i][j]\n",
    "        # now run the train step\n",
    "        self.q.train(x_batch,y_batch)\n",
    "\n",
    "    def set_epsilon(self,episode):\n",
    "        # decay exploration from 0.5 to 0.1, but slowly\n",
    "        # NOTE: performance depends on these decay schedules! Experiment!\n",
    "        #self.epsilon = 0.01 + (0.5-0.01)/(1 + episode)\n",
    "        # Note: here is a rate schedule suggested by https://jaromiru.com/2016/10/03/lets-make-a-dqn-implementation/\n",
    "        self.epsilon = 0.01 + (1.0 - 0.01)*np.exp(-.001*episode)\n",
    "        \n",
    "    def reset_epsilon(self):\n",
    "        # reset method for running greedy after training\n",
    "        self.epsilon = 0.0\n",
    "\n",
    "    def gather_reward(self, reward):\n",
    "        self.total_reward += reward\n",
    "    def get_total_reward(self):\n",
    "         return self.total_reward\n",
    "    def set_total_reward(self, new_total):\n",
    "         self.total_reward = new_total"
   ]
  },
  {
   "cell_type": "code",
   "execution_count": 24,
   "metadata": {},
   "outputs": [
    {
     "name": "stdout",
     "output_type": "stream",
     "text": [
      "After 50 episodes, last 50 rewards averaged 23.36\n",
      "After 100 episodes, last 50 rewards averaged 21.02\n",
      "After 150 episodes, last 50 rewards averaged 22.26\n",
      "After 200 episodes, last 50 rewards averaged 17.88\n",
      "After 250 episodes, last 50 rewards averaged 18.54\n",
      "After 300 episodes, last 50 rewards averaged 19.38\n",
      "After 350 episodes, last 50 rewards averaged 19.9\n",
      "After 400 episodes, last 50 rewards averaged 16.68\n",
      "After 450 episodes, last 50 rewards averaged 27.74\n",
      "After 500 episodes, last 50 rewards averaged 38.76\n",
      "After 550 episodes, last 50 rewards averaged 44.72\n",
      "After 600 episodes, last 50 rewards averaged 46.78\n",
      "After 650 episodes, last 50 rewards averaged 51.24\n",
      "After 700 episodes, last 50 rewards averaged 48.88\n",
      "After 750 episodes, last 50 rewards averaged 54.78\n",
      "After 800 episodes, last 50 rewards averaged 58.3\n",
      "After 850 episodes, last 50 rewards averaged 64.16\n",
      "After 900 episodes, last 50 rewards averaged 72.42\n",
      "After 950 episodes, last 50 rewards averaged 74.3\n",
      "After 1000 episodes, last 50 rewards averaged 88.4\n",
      "After 1050 episodes, last 50 rewards averaged 112.4\n",
      "After 1100 episodes, last 50 rewards averaged 146.16\n",
      "After 1150 episodes, last 50 rewards averaged 183.06\n",
      "After 1200 episodes, last 50 rewards averaged 194.48\n",
      "After 1250 episodes, last 50 rewards averaged 194.68\n",
      "After 1300 episodes, last 50 rewards averaged 196.64\n",
      "After 1350 episodes, last 50 rewards averaged 191.34\n",
      "After 1400 episodes, last 50 rewards averaged 192.16\n",
      "After 1450 episodes, last 50 rewards averaged 200.0\n",
      "After 1500 episodes, last 50 rewards averaged 197.08\n"
     ]
    },
    {
     "data": {
      "image/png": "[encoded data removed]",
      "text/plain": [
       "<matplotlib.figure.Figure at 0x23a6d0efa90>"
      ]
     },
     "metadata": {},
     "output_type": "display_data"
    }
   ],
   "source": [
    "with tf.Graph().as_default():\n",
    "    ep_rewards = []\n",
    "    with tf.Session() as sess:\n",
    "        # create an agent\n",
    "        agent = Agent(sess)\n",
    "        # usual tf initialization\n",
    "        sess.run(tf.global_variables_initializer())      \n",
    "        ####\n",
    "        # Q-learn (train) DQN on CartPole\n",
    "        ####\n",
    "        for ep in range(1501): \n",
    "            # reset environment and agent\n",
    "            last_observation = env.reset()\n",
    "            agent.set_total_reward(0)\n",
    "            # done at T==199 so no reason to go further\n",
    "            for t in range(201):\n",
    "                # agent chooses an action\n",
    "                action = agent.choose_action(last_observation)\n",
    "                # agent takes the action, and the environment responds\n",
    "                observation, reward, done, info = env.step(action)\n",
    "                # check for fail state\n",
    "                if done==True:\n",
    "                    observation = None\n",
    "                # update agent with reward and data\n",
    "                agent.gather_reward(reward)\n",
    "                agent.gather_experience(last_observation, action, reward, observation)\n",
    "                # update q function, which will use the memory\n",
    "                agent.q_update()\n",
    "                # iterate\n",
    "                last_observation = observation\n",
    "                if done==True:\n",
    "                    ep_rewards.append(agent.get_total_reward())\n",
    "                    break\n",
    "            # print progress...\n",
    "            if (ep+1) % 50 == 0:\n",
    "                print('After {} episodes, last 50 rewards averaged {}'.format(ep+1, np.mean(ep_rewards[-50:])))\n",
    "            # update rates\n",
    "            agent.set_epsilon(ep)\n",
    "        plt.plot(ep_rewards, linewidth=2)\n",
    "        plt.xlabel('episode')\n",
    "        plt.ylabel('total reward per episode')\n",
    "        plt.title('DQN CartPole q-learning (training)')\n",
    "        plt.show()"
   ]
  },
  {
   "cell_type": "markdown",
   "metadata": {},
   "source": [
    "# 3"
   ]
  },
  {
   "cell_type": "markdown",
   "metadata": {},
   "source": [
    "## (a)"
   ]
  },
  {
   "cell_type": "markdown",
   "metadata": {},
   "source": [
    "Bowen Huang  bh2596\n",
    "<br>Kalabe Haile  kgh2122\n",
    "<br>Richard Lee  rl2876\n",
    "<br>Tianyi Wang  tw2567"
   ]
  },
  {
   "cell_type": "markdown",
   "metadata": {},
   "source": [
    "## (b)"
   ]
  },
  {
   "cell_type": "markdown",
   "metadata": {},
   "source": [
    "We will do the CIFAR10 dataset classification. It's a image classification problem with ten classes. We will use several CNNs to classify CIFAR10 and compare the performances. "
   ]
  },
  {
   "cell_type": "markdown",
   "metadata": {},
   "source": [
    "## (c)"
   ]
  },
  {
   "cell_type": "markdown",
   "metadata": {},
   "source": [
    "data: CIFAR10\n",
    "<br>The CIFAR-10 data consists of 60,000 32x32 color images in 10 classes, with 6000 images per class. There are 50,000 training images and 10,000 test images in the official data. "
   ]
  },
  {
   "cell_type": "markdown",
   "metadata": {},
   "source": [
    "## (d)"
   ]
  },
  {
   "cell_type": "markdown",
   "metadata": {},
   "source": [
    "We will first use the logistic regression model to address the problem. And then we will each find an architecture and explore it. The CIFAR10 data are usually classified through CNN models. "
   ]
  },
  {
   "cell_type": "markdown",
   "metadata": {},
   "source": [
    "## (e)"
   ]
  },
  {
   "cell_type": "markdown",
   "metadata": {},
   "source": [
    "The main channge will be to explain clearly how each model works in depth. Coding tensorflow might also be difficult since we are all novices. It will also be difficult to explain the why the performances vary between different architectures."
   ]
  }
 ],
 "metadata": {
  "kernelspec": {
   "display_name": "Python 3",
   "language": "python",
   "name": "python3"
  },
  "language_info": {
   "codemirror_mode": {
    "name": "ipython",
    "version": 3
   },
   "file_extension": ".py",
   "mimetype": "text/x-python",
   "name": "python",
   "nbconvert_exporter": "python",
   "pygments_lexer": "ipython3",
   "version": "3.6.2"
  }
 },
 "nbformat": 4,
 "nbformat_minor": 2
}
